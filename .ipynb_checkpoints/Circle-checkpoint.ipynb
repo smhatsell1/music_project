{
 "cells": [
  {
   "cell_type": "markdown",
   "id": "6b096d30-8171-48bb-a5c7-055e39589ca9",
   "metadata": {},
   "source": [
    "# Get Circle Working"
   ]
  },
  {
   "cell_type": "code",
   "execution_count": 1,
   "id": "2bbc3bb2-9e02-4675-9756-43f908fc277c",
   "metadata": {
    "tags": []
   },
   "outputs": [],
   "source": [
    "from preview_request import preview_request, convert_to_wav\n",
    "import numpy as np\n",
    "import pandas as pd\n",
    "import librosa\n",
    "from manim import *\n",
    "import colorsys"
   ]
  },
  {
   "cell_type": "code",
   "execution_count": 6,
   "id": "3fcba870-fc30-4137-865f-86c4944f5703",
   "metadata": {
    "tags": []
   },
   "outputs": [],
   "source": [
    "from MusicData import *\n",
    "from HSV_Anim import norm_to_n, hsv_to_hex"
   ]
  },
  {
   "cell_type": "code",
   "execution_count": 7,
   "id": "29906f72-fb9e-4faf-bf7c-7a8fc407f8bf",
   "metadata": {
    "tags": []
   },
   "outputs": [
    {
     "data": {
      "text/html": [
       "<pre style=\"white-space:pre;overflow-x:auto;line-height:normal;font-family:Menlo,'DejaVu Sans Mono',consolas,'Courier New',monospace\">Manim Community <span style=\"color: #008000; text-decoration-color: #008000\">v0.18.1</span>\n",
       "\n",
       "</pre>\n"
      ],
      "text/plain": [
       "Manim Community \u001b[32mv0.\u001b[0m\u001b[32m18.1\u001b[0m\n",
       "\n"
      ]
     },
     "metadata": {},
     "output_type": "display_data"
    },
    {
     "name": "stdin",
     "output_type": "stream",
     "text": [
      "Enter a song title:  360\n"
     ]
    },
    {
     "name": "stdout",
     "output_type": "stream",
     "text": [
      "Searching for: 360\n"
     ]
    },
    {
     "name": "stderr",
     "output_type": "stream",
     "text": [
      "ffmpeg version 5.1.2 Copyright (c) 2000-2022 the FFmpeg developers\n",
      "  built with clang version 14.0.6\n",
      "  configuration: --prefix=/opt/anaconda3/envs/PIC16B-25W --cc=x86_64-apple-darwin13.4.0-clang --cxx=x86_64-apple-darwin13.4.0-clang++ --nm=x86_64-apple-darwin13.4.0-nm --ar=x86_64-apple-darwin13.4.0-ar --disable-doc --disable-openssl --enable-demuxer=dash --enable-hardcoded-tables --enable-libfreetype --enable-libfontconfig --enable-libopenh264 --disable-videotoolbox --enable-gnutls --enable-libmp3lame --enable-libvpx --enable-pthreads --enable-gpl --enable-libx264 --enable-libx265 --enable-libaom --enable-libsvtav1 --enable-libxml2 --enable-pic --enable-shared --disable-static --enable-version3 --enable-zlib --enable-libopus --pkg-config=/Users/runner/miniforge3/conda-bld/ffmpeg_1674566297840/_build_env/bin/pkg-config\n",
      "  libavutil      57. 28.100 / 57. 28.100\n",
      "  libavcodec     59. 37.100 / 59. 37.100\n",
      "  libavformat    59. 27.100 / 59. 27.100\n",
      "  libavdevice    59.  7.100 / 59.  7.100\n",
      "  libavfilter     8. 44.100 /  8. 44.100\n",
      "  libswscale      6.  7.100 /  6.  7.100\n",
      "  libswresample   4.  7.100 /  4.  7.100\n",
      "  libpostproc    56.  6.100 / 56.  6.100\n",
      "[mp3 @ 0x7f9d47f05080] Estimating duration from bitrate, this may be inaccurate\n",
      "Input #0, mp3, from 'songs/360_Charli xcx_preview.mp3':\n",
      "  Duration: 00:00:29.99, start: 0.000000, bitrate: 128 kb/s\n",
      "  Stream #0:0: Audio: mp3, 44100 Hz, stereo, fltp, 128 kb/s\n",
      "File 'songs/360_Charli xcx_preview.wav' already exists. Overwrite? [y/N] Not overwriting - exiting\n",
      "                                                                                \r"
     ]
    },
    {
     "data": {
      "text/html": [
       "<video src=\"media/jupyter/circle@2025-03-13@16-19-51.mp4\" controls autoplay loop style=\"max-width: 60%;\"  >\n",
       "      Your browser does not support the <code>video</code> element.\n",
       "    </video>"
      ],
      "text/plain": [
       "<IPython.core.display.Video object>"
      ]
     },
     "metadata": {},
     "output_type": "display_data"
    }
   ],
   "source": [
    "class circle(Scene):\n",
    "    def construct(self):\n",
    "        audio_file_name = preview_request()\n",
    "        y, sr = librosa.load(audio_file_name)\n",
    "\n",
    "        y, sr = librosa.load(audio_file_name)\n",
    "        \n",
    "        tempo, beat_frames = librosa.beat.beat_track(y=y, sr=sr)\n",
    "        beat_times = librosa.frames_to_time(beat_frames, sr=sr)\n",
    "        beat_times = np.insert(beat_times, 0, 0)\n",
    "        song_time = librosa.get_duration(y=y, sr=sr)\n",
    "\n",
    "        spectral_centroid = librosa.feature.spectral_centroid(y=y, sr=sr)[0]\n",
    "        norm_centroid = (spectral_centroid - spectral_centroid.min()) / (spectral_centroid.max() - spectral_centroid.min())\n",
    "\n",
    "        # Extract Pitch and Volume\n",
    "        pitches = extract_max_pitches(y, sr, beat_times)\n",
    "        volumes = extract_max_volume(y, sr, beat_times)\n",
    "        \n",
    "        note_map = {\n",
    "            'C':1,'C♯':1.5,\n",
    "            'D':2,'D♯':2.5,\n",
    "            'E':3,\n",
    "            'F':4,'F♯':4.5,\n",
    "            'G':5,'G♯':5.5,\n",
    "            'A':6,'A♯':5.5,\n",
    "            'B':7\n",
    "        }\n",
    "        \n",
    "        pitches = extract_max_pitches(y, sr, beat_times)\n",
    "        volumes = extract_max_volume(y, sr, beat_times)\n",
    "\n",
    "        notes = librosa.hz_to_note(pitches, octave=False)\n",
    "        note_vals = [note_map[note] for note in notes]\n",
    "\n",
    "        H = norm_to_n(note_vals,360)\n",
    "        S = norm_to_n(volumes, 100)\n",
    "        B = norm_to_n(pitches, 100)\n",
    "\n",
    "\n",
    "        zip_obj = zip(H,S,B)\n",
    "        color_list = list(zip_obj)\n",
    "\n",
    "        vectorized_function = np.vectorize(hsv_to_hex, signature='(n)->()')\n",
    "        list_of_colors = vectorized_function(np.array(color_list))\n",
    "        list_of_colors = [ManimColor.from_hex('#'+color) for color in list_of_colors]\n",
    "        cues = np.diff(beat_times)[np.diff(beat_times) !=0]\n",
    "        \n",
    "        self.add_sound(audio_file_name)\n",
    "\n",
    "        background = FullScreenRectangle(fill_color=list_of_colors[0],  fill_opacity=1)\n",
    "        self.add(background)\n",
    "        rad = norm_to_n(S[1:],4)\n",
    "        for i in range(len(cues)):\n",
    "            circle_past = Circle(radius=rad[max(0,i-1)], color=BLACK, stroke_width=10)\n",
    "            circle_now = Circle(radius=rad[i]/100*4, color=BLACK, stroke_width=10)\n",
    "            # self.add(circle)\n",
    "            self.play(FadeToColor(background, color=list_of_colors[i]), \n",
    "                      Transform(circle_past, circle_now),\n",
    "                      run_time=cues[i]\n",
    "                     )\n",
    "            self.remove(circle_past)\n",
    "        self.wait(3)\n",
    "    \n",
    "%manim -ql -v CRITICAL circle"
   ]
  },
  {
   "cell_type": "code",
   "execution_count": null,
   "id": "b52e8d70-aa05-4b5f-a3ee-14478275c7fa",
   "metadata": {},
   "outputs": [],
   "source": []
  }
 ],
 "metadata": {
  "kernelspec": {
   "display_name": "Python [conda env:PIC16B-25W] *",
   "language": "python",
   "name": "conda-env-PIC16B-25W-py"
  },
  "language_info": {
   "codemirror_mode": {
    "name": "ipython",
    "version": 3
   },
   "file_extension": ".py",
   "mimetype": "text/x-python",
   "name": "python",
   "nbconvert_exporter": "python",
   "pygments_lexer": "ipython3",
   "version": "3.11.6"
  }
 },
 "nbformat": 4,
 "nbformat_minor": 5
}
