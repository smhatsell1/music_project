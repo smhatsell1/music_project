{
 "cells": [
  {
   "cell_type": "code",
   "execution_count": 2,
   "id": "54b0af3a-13a1-47fe-b4d3-6406eed09cae",
   "metadata": {},
   "outputs": [],
   "source": [
    "import numpy as np\n",
    "import pandas as pd\n",
    "import librosa\n",
    "import requests\n",
    "import subprocess\n",
    "\n",
    "from preview_request import preview_request, convert_to_wav"
   ]
  },
  {
   "cell_type": "code",
   "execution_count": null,
   "id": "fdd33453-0fb8-42b8-9c75-1982167369f2",
   "metadata": {},
   "outputs": [],
   "source": [
    "def rgb_to_hex(rgb):\n",
    "    '''\n",
    "    param: tuple of rgb coded colors\n",
    "    returns: hex string\n",
    "    '''\n",
    "    if type(rgb) != tuple:\n",
    "        rgb = tuple(rgb)\n",
    "    return '%02x%02x%02x' % rgb\n",
    "\n",
    "def norm_for_color(array):\n",
    "    min_val = np.min(array)\n",
    "    max_val = np.max(array)\n",
    "    \n",
    "    normalized_array = (array - min_val) / (max_val - min_val) * 255\n",
    "    return normalized_array"
   ]
  },
  {
   "cell_type": "code",
   "execution_count": 3,
   "id": "bad148a2-82ed-413f-95f5-30b08dade9d0",
   "metadata": {},
   "outputs": [
    {
     "name": "stdin",
     "output_type": "stream",
     "text": [
      "Enter a song title:  Hurricanes Rina Sawayama\n"
     ]
    },
    {
     "name": "stdout",
     "output_type": "stream",
     "text": [
      "Searching for: Hurricanes Rina Sawayama\n"
     ]
    },
    {
     "name": "stderr",
     "output_type": "stream",
     "text": [
      "ffmpeg version 4.2.2 Copyright (c) 2000-2019 the FFmpeg developers\n",
      "  built with clang version 4.0.1 (tags/RELEASE_401/final)\n",
      "  configuration: --prefix=/opt/anaconda3/envs/PIC16B --cc=x86_64-apple-darwin13.4.0-clang --disable-doc --enable-avresample --enable-gmp --enable-hardcoded-tables --enable-libfreetype --enable-libvpx --enable-pthreads --enable-libopus --enable-postproc --enable-pic --enable-pthreads --enable-shared --enable-static --enable-version3 --enable-zlib --enable-libmp3lame --disable-nonfree --enable-gpl --enable-gnutls --disable-openssl --enable-libopenh264 --enable-libx264\n",
      "  libavutil      56. 31.100 / 56. 31.100\n",
      "  libavcodec     58. 54.100 / 58. 54.100\n",
      "  libavformat    58. 29.100 / 58. 29.100\n",
      "  libavdevice    58.  8.100 / 58.  8.100\n",
      "  libavfilter     7. 57.100 /  7. 57.100\n",
      "  libavresample   4.  0.  0 /  4.  0.  0\n",
      "  libswscale      5.  5.100 /  5.  5.100\n",
      "  libswresample   3.  5.100 /  3.  5.100\n",
      "  libpostproc    55.  5.100 / 55.  5.100\n",
      "[mp3 @ 0x7f7d6680d200] Estimating duration from bitrate, this may be inaccurate\n",
      "Input #0, mp3, from 'Hurricanes_Rina Sawayama_preview.mp3':\n",
      "  Duration: 00:00:29.99, start: 0.000000, bitrate: 128 kb/s\n",
      "    Stream #0:0: Audio: mp3, 44100 Hz, stereo, fltp, 128 kb/s\n",
      "File 'Hurricanes_Rina Sawayama_preview.wav' already exists. Overwrite ? [y/N] Not overwriting - exiting\n"
     ]
    },
    {
     "ename": "NameError",
     "evalue": "name 'norm_for_color' is not defined",
     "output_type": "error",
     "traceback": [
      "\u001b[0;31m---------------------------------------------------------------------------\u001b[0m",
      "\u001b[0;31mNameError\u001b[0m                                 Traceback (most recent call last)",
      "Cell \u001b[0;32mIn[3], line 16\u001b[0m\n\u001b[1;32m     13\u001b[0m num_to_take_from_y_3 \u001b[38;5;241m=\u001b[39m ((percent_through_song\u001b[38;5;241m+\u001b[39m\u001b[38;5;241m0.01\u001b[39m)\u001b[38;5;241m*\u001b[39my\u001b[38;5;241m.\u001b[39msize)\u001b[38;5;241m.\u001b[39mastype(\u001b[38;5;28mint\u001b[39m)\n\u001b[1;32m     15\u001b[0m \u001b[38;5;66;03m# Normalize the audio values to generate RGB color channels\u001b[39;00m\n\u001b[0;32m---> 16\u001b[0m r \u001b[38;5;241m=\u001b[39m norm_for_color(y[num_to_take_from_y_1])\u001b[38;5;241m.\u001b[39mastype(\u001b[38;5;28mint\u001b[39m)\n\u001b[1;32m     17\u001b[0m b \u001b[38;5;241m=\u001b[39m norm_for_color(y[num_to_take_from_y_2])\u001b[38;5;241m.\u001b[39mastype(\u001b[38;5;28mint\u001b[39m)\n\u001b[1;32m     18\u001b[0m g \u001b[38;5;241m=\u001b[39m norm_for_color(y[num_to_take_from_y_3])\u001b[38;5;241m.\u001b[39mastype(\u001b[38;5;28mint\u001b[39m)\n",
      "\u001b[0;31mNameError\u001b[0m: name 'norm_for_color' is not defined"
     ]
    }
   ],
   "source": [
    "audio_file_name = preview_request()\n",
    "y, sr = librosa.load(audio_file_name)\n",
    "\n",
    "tempo, beat_frames = librosa.beat.beat_track(y=y, sr=sr)\n",
    "beat_times = librosa.frames_to_time(beat_frames, sr=sr)\n",
    "\n",
    "song_time = librosa.get_duration(y=y, sr=sr)\n",
    "percent_through_song = beat_times/song_time\n",
    "\n",
    "\n",
    "num_to_take_from_y_1 = (percent_through_song*y.size).astype(int)\n",
    "num_to_take_from_y_2 = ((percent_through_song-0.01)*y.size).astype(int)\n",
    "num_to_take_from_y_3 = ((percent_through_song+0.01)*y.size).astype(int)\n",
    "\n",
    "# Normalize the audio values to generate RGB color channels\n",
    "r = norm_for_color(y[num_to_take_from_y_1]).astype(int)\n",
    "b = norm_for_color(y[num_to_take_from_y_2]).astype(int)\n",
    "g = norm_for_color(y[num_to_take_from_y_3]).astype(int)\n",
    "\n",
    "zip_obj = zip(r,b,g)\n",
    "color_list = list(zip_obj)\n",
    "\n",
    "vectorized_function = np.vectorize(rgb_to_hex, signature='(n)->()')\n",
    "list_of_colors = vectorized_function(np.array(color_list))\n",
    "\n",
    "cues = np.diff(beat_times)"
   ]
  },
  {
   "cell_type": "code",
   "execution_count": null,
   "id": "a2da9e40-1b3d-4bf1-a8af-55794264af03",
   "metadata": {},
   "outputs": [],
   "source": []
  }
 ],
 "metadata": {
  "kernelspec": {
   "display_name": "PIC16B",
   "language": "python",
   "name": "pic16b"
  },
  "language_info": {
   "codemirror_mode": {
    "name": "ipython",
    "version": 3
   },
   "file_extension": ".py",
   "mimetype": "text/x-python",
   "name": "python",
   "nbconvert_exporter": "python",
   "pygments_lexer": "ipython3",
   "version": "3.12.2"
  }
 },
 "nbformat": 4,
 "nbformat_minor": 5
}
