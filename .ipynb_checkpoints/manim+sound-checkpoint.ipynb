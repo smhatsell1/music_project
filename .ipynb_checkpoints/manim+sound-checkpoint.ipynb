{
 "cells": [
  {
   "cell_type": "code",
   "execution_count": 1,
   "id": "144f10b5-f1ab-4186-89dc-77ebd3b9e183",
   "metadata": {
    "tags": []
   },
   "outputs": [],
   "source": [
    "from preview_request import preview_request, convert_to_wav\n",
    "import numpy as np\n",
    "import pandas as pd\n",
    "import librosa\n",
    "from manim import *\n",
    "import colorsys"
   ]
  },
  {
   "cell_type": "code",
   "execution_count": 2,
   "id": "a361d0b6-2ea0-40a8-96e1-8c95bd5c8e20",
   "metadata": {
    "tags": []
   },
   "outputs": [
    {
     "data": {
      "text/html": [
       "<pre style=\"white-space:pre;overflow-x:auto;line-height:normal;font-family:Menlo,'DejaVu Sans Mono',consolas,'Courier New',monospace\">Manim Community <span style=\"color: #008000; text-decoration-color: #008000\">v0.18.1</span>\n",
       "\n",
       "</pre>\n"
      ],
      "text/plain": [
       "Manim Community \u001b[32mv0.\u001b[0m\u001b[32m18.1\u001b[0m\n",
       "\n"
      ]
     },
     "metadata": {},
     "output_type": "display_data"
    },
    {
     "name": "stdin",
     "output_type": "stream",
     "text": [
      "Enter a song title:  disease\n"
     ]
    },
    {
     "name": "stdout",
     "output_type": "stream",
     "text": [
      "Searching for: disease\n"
     ]
    },
    {
     "name": "stderr",
     "output_type": "stream",
     "text": [
      "ffmpeg version 5.1.2 Copyright (c) 2000-2022 the FFmpeg developers\n",
      "  built with clang version 14.0.6\n",
      "  configuration: --prefix=/opt/anaconda3/envs/PIC16B-25W --cc=x86_64-apple-darwin13.4.0-clang --cxx=x86_64-apple-darwin13.4.0-clang++ --nm=x86_64-apple-darwin13.4.0-nm --ar=x86_64-apple-darwin13.4.0-ar --disable-doc --disable-openssl --enable-demuxer=dash --enable-hardcoded-tables --enable-libfreetype --enable-libfontconfig --enable-libopenh264 --disable-videotoolbox --enable-gnutls --enable-libmp3lame --enable-libvpx --enable-pthreads --enable-gpl --enable-libx264 --enable-libx265 --enable-libaom --enable-libsvtav1 --enable-libxml2 --enable-pic --enable-shared --disable-static --enable-version3 --enable-zlib --enable-libopus --pkg-config=/Users/runner/miniforge3/conda-bld/ffmpeg_1674566297840/_build_env/bin/pkg-config\n",
      "  libavutil      57. 28.100 / 57. 28.100\n",
      "  libavcodec     59. 37.100 / 59. 37.100\n",
      "  libavformat    59. 27.100 / 59. 27.100\n",
      "  libavdevice    59.  7.100 / 59.  7.100\n",
      "  libavfilter     8. 44.100 /  8. 44.100\n",
      "  libswscale      6.  7.100 /  6.  7.100\n",
      "  libswresample   4.  7.100 /  4.  7.100\n",
      "  libpostproc    56.  6.100 / 56.  6.100\n",
      "[mp3 @ 0x7fbe7b705080] Estimating duration from bitrate, this may be inaccurate\n",
      "Input #0, mp3, from 'songs/Disease_Lady Gaga_preview.mp3':\n",
      "  Duration: 00:00:29.99, start: 0.000000, bitrate: 128 kb/s\n",
      "  Stream #0:0: Audio: mp3, 44100 Hz, stereo, fltp, 128 kb/s\n",
      "Stream mapping:\n",
      "  Stream #0:0 -> #0:0 (mp3 (mp3float) -> pcm_s16le (native))\n",
      "Press [q] to stop, [?] for help\n",
      "Output #0, wav, to 'songs/Disease_Lady Gaga_preview.wav':\n",
      "  Metadata:\n",
      "    ISFT            : Lavf59.27.100\n",
      "  Stream #0:0: Audio: pcm_s16le ([1][0][0][0] / 0x0001), 44100 Hz, stereo, s16, 1411 kb/s\n",
      "    Metadata:\n",
      "      encoder         : Lavc59.37.100 pcm_s16le\n",
      "size=    5166kB time=00:00:29.98 bitrate=1411.2kbits/s speed= 955x        \n",
      "video:0kB audio:5166kB subtitle:0kB other streams:0kB global headers:0kB muxing overhead: 0.001474%\n",
      "                                                                                \r"
     ]
    },
    {
     "data": {
      "text/html": [
       "<video src=\"media/jupyter/dynamic@2025-03-12@08-36-52.mp4\" controls autoplay loop style=\"max-width: 60%;\"  >\n",
       "      Your browser does not support the <code>video</code> element.\n",
       "    </video>"
      ],
      "text/plain": [
       "<IPython.core.display.Video object>"
      ]
     },
     "metadata": {},
     "output_type": "display_data"
    }
   ],
   "source": [
    "class dynamic(Scene):\n",
    "    def construct(self):\n",
    "        audio_file = preview_request()\n",
    "        if not audio_file:\n",
    "            print(\"No audio file generated.\")\n",
    "            return\n",
    "        y, sr = librosa.load(audio_file)\n",
    "        \n",
    "        y_harm, y_perc = librosa.effects.hpss(y)\n",
    "        \n",
    "        # harmonic blue\n",
    "        onset_env_harm = librosa.onset.onset_strength(y=y_harm, sr=sr)\n",
    "        max_harm = np.max(onset_env_harm) if np.max(onset_env_harm) > 0 else 1\n",
    "        harm_circle = Circle(color=BLUE)\n",
    "        harm_circle.move_to(LEFT * 2)\n",
    "\n",
    "        # pitch red\n",
    "        pitches, magnitudes = librosa.piptrack(y=y_perc, sr=sr)\n",
    "        pitch_values = np.max(pitches, axis=0)  # Get max pitch per frame\n",
    "        pitch_values = np.nan_to_num(pitch_values)\n",
    "\n",
    "        pitch_circle = Circle(color=RED)\n",
    "        pitch_circle.move_to(RIGHT * 2)\n",
    "\n",
    "        \n",
    "        self.add(harm_circle, pitch_circle)\n",
    "        \n",
    "        self.add_sound(audio_file)\n",
    "\n",
    "        # Animate circles expanding based on onset strength\n",
    "        for harm, pitch in zip(onset_env_harm, pitch_values):\n",
    "            self.play(\n",
    "                harm_circle.animate.scale(1 + harm * 0.8),\n",
    "                pitch_circle.animate.scale(1 + pitch * 0.8),\n",
    "                run_time=0.1\n",
    "            )\n",
    "            \n",
    "            harm_circle.scale(1 / (1 + harm * 0.8))\n",
    "            pitch_circle.scale(1 / (1 + pitch * 0.8))\n",
    "\n",
    "%manim -ql -v WARNING dynamic"
   ]
  },
  {
   "cell_type": "code",
   "execution_count": null,
   "id": "50359961-a01f-4c16-a355-a49a15b7ad2b",
   "metadata": {},
   "outputs": [],
   "source": []
  }
 ],
 "metadata": {
  "kernelspec": {
   "display_name": "Python [conda env:PIC16B-25W] *",
   "language": "python",
   "name": "conda-env-PIC16B-25W-py"
  },
  "language_info": {
   "codemirror_mode": {
    "name": "ipython",
    "version": 3
   },
   "file_extension": ".py",
   "mimetype": "text/x-python",
   "name": "python",
   "nbconvert_exporter": "python",
   "pygments_lexer": "ipython3",
   "version": "3.11.6"
  }
 },
 "nbformat": 4,
 "nbformat_minor": 5
}
