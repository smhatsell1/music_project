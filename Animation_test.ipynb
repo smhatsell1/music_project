{
 "cells": [
  {
   "cell_type": "code",
   "execution_count": null,
   "id": "00b3df61-6896-404e-afe9-67a0a687fcff",
   "metadata": {
    "tags": []
   },
   "outputs": [],
   "source": [
    "import numpy as np\n",
    "import pandas as pd\n",
    "import librosa\n",
    "import requests\n",
    "import subprocess\n",
    "from manim import *\n",
    "\n",
    "from preview_request import preview_request, convert_to_wav"
   ]
  },
  {
   "cell_type": "code",
   "execution_count": null,
   "id": "cbe03272-a41f-469e-8f02-437d0c5ca2b4",
   "metadata": {
    "tags": []
   },
   "outputs": [],
   "source": [
    "from BackgroundAnimation import ContinuousMotion"
   ]
  },
  {
   "cell_type": "code",
   "execution_count": null,
   "id": "6827d8b6-5ffd-471c-a265-ad50729b01fe",
   "metadata": {
    "tags": []
   },
   "outputs": [],
   "source": [
    "%manim -ql -v WARNING ContinuousMotion"
   ]
  }
 ],
 "metadata": {
  "kernelspec": {
   "display_name": "Python [conda env:PIC16B-25W] *",
   "language": "python",
   "name": "conda-env-PIC16B-25W-py"
  },
  "language_info": {
   "codemirror_mode": {
    "name": "ipython",
    "version": 3
   },
   "file_extension": ".py",
   "mimetype": "text/x-python",
   "name": "python",
   "nbconvert_exporter": "python",
   "pygments_lexer": "ipython3",
   "version": "3.11.6"
  }
 },
 "nbformat": 4,
 "nbformat_minor": 5
}
