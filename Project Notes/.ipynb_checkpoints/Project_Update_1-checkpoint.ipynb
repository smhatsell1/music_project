{
 "cells": [
  {
   "cell_type": "markdown",
   "id": "4c0582d7-bd99-4141-8f42-f530f7a868e4",
   "metadata": {},
   "source": [
    "# Initial Notes about Musical Visuals"
   ]
  },
  {
   "cell_type": "markdown",
   "id": "194ed0a6",
   "metadata": {},
   "source": [
    "Code from: https://www.33rdsquare.com/visualizing-sounds-librosa/"
   ]
  },
  {
   "cell_type": "markdown",
   "id": "07fdfafa",
   "metadata": {},
   "source": [
    "To put audio over: https://docs.manim.community/en/stable/guides/add_voiceovers.html. This is only for AI generated speech but we can see.."
   ]
  },
  {
   "cell_type": "code",
   "execution_count": null,
   "id": "a28deb95-74ed-45ae-8150-0673ce847152",
   "metadata": {
    "scrolled": true,
    "tags": []
   },
   "outputs": [],
   "source": [
    "import librosa\n",
    "import numpy as np\n",
    "import pandas as pd\n",
    "import matplotlib.pyplot as plt"
   ]
  },
  {
   "cell_type": "code",
   "execution_count": null,
   "id": "ea0a0aa1-813d-44f9-8901-9699f894a594",
   "metadata": {
    "scrolled": true,
    "tags": []
   },
   "outputs": [],
   "source": [
    "audio_file = \"song.wav\"\n",
    "y, sr = librosa.load(audio_file)"
   ]
  },
  {
   "cell_type": "code",
   "execution_count": null,
   "id": "548a39aa-eba1-4954-8c65-e2d11d1e649f",
   "metadata": {
    "tags": []
   },
   "outputs": [],
   "source": [
    "y"
   ]
  },
  {
   "cell_type": "code",
   "execution_count": null,
   "id": "a7526b98-d5f4-4a29-ae89-780e31bf835e",
   "metadata": {
    "tags": []
   },
   "outputs": [],
   "source": [
    "y.shape"
   ]
  },
  {
   "cell_type": "code",
   "execution_count": null,
   "id": "1f8060f9-0db0-413c-a215-519e1e1cc693",
   "metadata": {
    "tags": []
   },
   "outputs": [],
   "source": [
    "sr"
   ]
  },
  {
   "cell_type": "code",
   "execution_count": null,
   "id": "874fc91c-4529-4d67-8eb3-1d3d76954fa7",
   "metadata": {
    "tags": []
   },
   "outputs": [],
   "source": [
    "tempo, beat_frames = librosa.beat.beat_track(y=y, sr=sr)\n",
    "tempo"
   ]
  },
  {
   "cell_type": "markdown",
   "id": "76b5d5c3-f13c-4019-86b3-94bfcf3a82ff",
   "metadata": {},
   "source": [
    "Let's check: https://tunebat.com/Info/Here-Comes-The-Sun-Remastered-2009-The-Beatles/6dGnYIeXmHdcikdzNNDMm2"
   ]
  },
  {
   "cell_type": "markdown",
   "id": "b480ae06-3af8-4c7d-8d87-d980f48a9841",
   "metadata": {},
   "source": [
    "This gives the time stamps for every time there is a \"beat event\""
   ]
  },
  {
   "cell_type": "code",
   "execution_count": null,
   "id": "f2121178-875d-4e93-a18c-2f668a64565f",
   "metadata": {
    "tags": []
   },
   "outputs": [],
   "source": [
    "beat_times = librosa.frames_to_time(beat_frames, sr=sr)\n",
    "beat_times"
   ]
  },
  {
   "cell_type": "code",
   "execution_count": null,
   "id": "03b760a0-5514-4d06-aa27-d6cfceef0db4",
   "metadata": {
    "tags": []
   },
   "outputs": [],
   "source": [
    "plt.figure(figsize=(14, 5))\n",
    "librosa.display.waveshow(y, sr=sr)\n",
    "plt.title(\"Audio Waveform\")\n",
    "plt.show()"
   ]
  },
  {
   "cell_type": "markdown",
   "id": "8fde9b6f-be6b-4281-a829-c634cc6ef558",
   "metadata": {},
   "source": [
    "# Breaking Song into Harmonies and Percussive Parts"
   ]
  },
  {
   "cell_type": "code",
   "execution_count": null,
   "id": "8412c5dc-c225-41ad-8f73-e12f2a6ce802",
   "metadata": {
    "tags": []
   },
   "outputs": [],
   "source": [
    "y_harm, y_perc = librosa.effects.hpss(y)"
   ]
  },
  {
   "cell_type": "code",
   "execution_count": null,
   "id": "a929d698-dc80-420a-b7b0-bba23b34676c",
   "metadata": {
    "tags": []
   },
   "outputs": [],
   "source": [
    "librosa.display.waveshow(y_harm, sr=sr, alpha=0.5, label='Harmonic')\n",
    "librosa.display.waveshow(y_perc, sr=sr, color='r', alpha=0.5, label='Percussive')\n",
    "plt.legend()\n",
    "plt.suptitle(\"Precussive v Harmonic Components\");"
   ]
  },
  {
   "cell_type": "markdown",
   "id": "66816e3a-3b4c-468b-8abf-cec1330a53d8",
   "metadata": {},
   "source": [
    "Required library for playing audio:"
   ]
  },
  {
   "cell_type": "code",
   "execution_count": null,
   "id": "b3a7e5ed-de4f-47c5-818d-28a435f0a670",
   "metadata": {
    "tags": []
   },
   "outputs": [],
   "source": [
    "from IPython.display import Audio"
   ]
  },
  {
   "cell_type": "code",
   "execution_count": null,
   "id": "508b8cc1-6557-4941-87ed-27bc573c719c",
   "metadata": {
    "tags": []
   },
   "outputs": [],
   "source": [
    "Audio(data=y_perc, rate=sr)"
   ]
  },
  {
   "cell_type": "code",
   "execution_count": null,
   "id": "aca846fb-1dfb-4c7d-be0c-fb17408863e8",
   "metadata": {
    "tags": []
   },
   "outputs": [],
   "source": [
    "Audio(data=y_harm, rate=sr)"
   ]
  },
  {
   "cell_type": "code",
   "execution_count": null,
   "id": "1203f255-4d57-482d-b25f-c5e58d41ecfd",
   "metadata": {
    "tags": []
   },
   "outputs": [],
   "source": [
    "Audio(data=y_perc+y_harm,rate=sr)"
   ]
  },
  {
   "cell_type": "markdown",
   "id": "111a1cb1-9fb6-4a23-b732-82e9f5fc78f6",
   "metadata": {},
   "source": [
    "# Basic Manim Examples"
   ]
  },
  {
   "cell_type": "code",
   "execution_count": null,
   "id": "6bebad02-7bdf-4a05-b220-ebe9db8ba0a4",
   "metadata": {
    "tags": []
   },
   "outputs": [],
   "source": [
    "from manim import *"
   ]
  },
  {
   "cell_type": "code",
   "execution_count": null,
   "id": "55edc72b-b5a3-44f8-94af-1974db38cea0",
   "metadata": {
    "tags": []
   },
   "outputs": [],
   "source": [
    "class DefaultTemplate(Scene):\n",
    "    def construct(self):\n",
    "        circle = Circle()  # create a circle\n",
    "        circle.set_fill(PINK, opacity=0.5)  # set color and transparency\n",
    "\n",
    "        square = Square()  # create a square\n",
    "        square.flip(RIGHT)  # flip horizontally\n",
    "        square.rotate(-3 * TAU / 8)  # rotate a certain amount\n",
    "\n",
    "        self.play(Create(square))  # animate the creation of the square\n",
    "        self.play(Transform(square, circle))  # interpolate the square into the circle\n",
    "        self.play(FadeOut(square))  # fade out animation\n",
    "        \n",
    "%manim -ql -v CRITICAL DefaultTemplate"
   ]
  },
  {
   "cell_type": "code",
   "execution_count": null,
   "id": "c618ddd6-c637-48af-8641-604b58d0c21f",
   "metadata": {
    "tags": []
   },
   "outputs": [],
   "source": [
    "class CreateCircle(Scene):\n",
    "    def construct(self):\n",
    "        circle = Circle()  # create a circle\n",
    "        circle.set_fill(PINK, opacity=0.5)  # set the color and transparency\n",
    "        self.play(Create(circle))  # show the circle on screen\n",
    "        \n",
    "%manim -ql -v CRITICAL CreateCircle"
   ]
  },
  {
   "cell_type": "markdown",
   "id": "10de3837-7d94-49a7-aa97-572293efb1a7",
   "metadata": {
    "tags": []
   },
   "source": [
    "## Graphs\n",
    "\n",
    "Finally, here are some graphs that we did not end up using but are interesting to see some of Liborsa's functionalities."
   ]
  },
  {
   "cell_type": "code",
   "execution_count": null,
   "id": "25181c4a",
   "metadata": {
    "tags": []
   },
   "outputs": [],
   "source": [
    "spectrogram = librosa.stft(y) \n",
    "S_db = librosa.amplitude_to_db(abs(spectrogram))\n",
    "\n",
    "plt.figure(figsize=(14, 5))\n",
    "librosa.display.specshow(S_db, sr=sr, x_axis='time', y_axis='hz')\n",
    "plt.colorbar()\n",
    "plt.title('Spectrogram')\n",
    "plt.show()"
   ]
  },
  {
   "cell_type": "code",
   "execution_count": null,
   "id": "3c29bdf7",
   "metadata": {
    "tags": []
   },
   "outputs": [],
   "source": [
    "mfccs = librosa.feature.mfcc(y=y, sr=sr, n_mfcc=40)\n",
    "\n",
    "plt.figure(figsize=(14, 5))\n",
    "librosa.display.specshow(mfccs, x_axis='time')\n",
    "plt.colorbar(format='%+2.0f dB')\n",
    "plt.title('MFCC')\n",
    "plt.show()"
   ]
  },
  {
   "cell_type": "code",
   "execution_count": null,
   "id": "a1c8859c",
   "metadata": {
    "tags": []
   },
   "outputs": [],
   "source": [
    "chroma = librosa.feature.chroma_stft(y=y, sr=sr) \n",
    "\n",
    "plt.figure(figsize=(14, 5)) \n",
    "librosa.display.specshow(chroma, y_axis='chroma', x_axis='time')\n",
    "plt.colorbar()\n",
    "plt.title('Chromagram')\n",
    "plt.show()"
   ]
  },
  {
   "cell_type": "code",
   "execution_count": null,
   "id": "0a2fdb31",
   "metadata": {
    "tags": []
   },
   "outputs": [],
   "source": [
    "librosa.display.specshow(mfccs, x_axis='time', cmap='magma')"
   ]
  },
  {
   "cell_type": "code",
   "execution_count": null,
   "id": "925056b7-8546-4e54-a4e3-ef12fec3c04d",
   "metadata": {},
   "outputs": [],
   "source": []
  }
 ],
 "metadata": {
  "kernelspec": {
   "display_name": "Python [conda env:PIC16B-25W] *",
   "language": "python",
   "name": "conda-env-PIC16B-25W-py"
  },
  "language_info": {
   "codemirror_mode": {
    "name": "ipython",
    "version": 3
   },
   "file_extension": ".py",
   "mimetype": "text/x-python",
   "name": "python",
   "nbconvert_exporter": "python",
   "pygments_lexer": "ipython3",
   "version": "3.11.6"
  }
 },
 "nbformat": 4,
 "nbformat_minor": 5
}
