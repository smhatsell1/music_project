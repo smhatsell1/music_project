{
 "cells": [
  {
   "cell_type": "markdown",
   "id": "6b096d30-8171-48bb-a5c7-055e39589ca9",
   "metadata": {},
   "source": [
    "# Get Circle Working"
   ]
  },
  {
   "cell_type": "code",
   "execution_count": null,
   "id": "2bbc3bb2-9e02-4675-9756-43f908fc277c",
   "metadata": {
    "tags": []
   },
   "outputs": [],
   "source": [
    "from original_preview_request import preview_request, convert_to_wav\n",
    "import numpy as np\n",
    "import pandas as pd\n",
    "import librosa\n",
    "from manim import *\n",
    "from colorsys import hsv_to_rgb"
   ]
  },
  {
   "cell_type": "code",
   "execution_count": null,
   "id": "3fcba870-fc30-4137-865f-86c4944f5703",
   "metadata": {
    "tags": []
   },
   "outputs": [],
   "source": [
    "from MusicData import *"
   ]
  },
  {
   "cell_type": "code",
   "execution_count": null,
   "id": "29906f72-fb9e-4faf-bf7c-7a8fc407f8bf",
   "metadata": {
    "tags": []
   },
   "outputs": [],
   "source": [
    "class circle(Scene):\n",
    "    def construct(self):\n",
    "        # audio_file_name = preview_request()\n",
    "        audio_file_name = \"song.wav\"\n",
    "        y, sr = librosa.load(audio_file_name)\n",
    "\n",
    "        y, sr = librosa.load(audio_file_name)\n",
    "        \n",
    "        tempo, beat_frames = librosa.beat.beat_track(y=y, sr=sr)\n",
    "        beat_times = librosa.frames_to_time(beat_frames, sr=sr)\n",
    "        beat_times = np.insert(beat_times, 0, 0)\n",
    "        song_time = librosa.get_duration(y=y, sr=sr)\n",
    "\n",
    "        spectral_centroid = librosa.feature.spectral_centroid(y=y, sr=sr)[0]\n",
    "        norm_centroid = (spectral_centroid - spectral_centroid.min()) / (spectral_centroid.max() - spectral_centroid.min())\n",
    "\n",
    "        # Extract Pitch and Volume\n",
    "        pitches = extract_max_pitches(y, sr, beat_times)\n",
    "        volumes = extract_max_volume(y, sr, beat_times)\n",
    "        \n",
    "        note_map = {\n",
    "            'C':1,'C♯':1.5,\n",
    "            'D':2,'D♯':2.5,\n",
    "            'E':3,\n",
    "            'F':4,'F♯':4.5,\n",
    "            'G':5,'G♯':5.5,\n",
    "            'A':6,'A♯':5.5,\n",
    "            'B':7\n",
    "        }\n",
    "        \n",
    "        pitches = extract_max_pitches(y, sr, beat_times)\n",
    "        volumes = extract_max_volume(y, sr, beat_times)\n",
    "\n",
    "        notes = librosa.hz_to_note(pitches, octave=False)\n",
    "        note_vals = [note_map[note] for note in notes]\n",
    "\n",
    "        H = norm_to_n(note_vals,360)\n",
    "        S = norm_to_n(volumes, 100)\n",
    "        B = norm_to_n(pitches, 100)\n",
    "\n",
    "\n",
    "        zip_obj = zip(H,S,B)\n",
    "        color_list = list(zip_obj)\n",
    "\n",
    "        vectorized_function = np.vectorize(hsv_to_hex, signature='(n)->()')\n",
    "        list_of_colors = vectorized_function(np.array(color_list))\n",
    "        list_of_colors = [ManimColor.from_hex('#'+color) for color in list_of_colors]\n",
    "        cues = np.diff(beat_times)[np.diff(beat_times) !=0]\n",
    "        \n",
    "        self.add_sound(audio_file_name)\n",
    "\n",
    "        background = FullScreenRectangle(fill_color=list_of_colors[0],  fill_opacity=1)\n",
    "        self.add(background)\n",
    "        rad = norm_to_n(S[1:],4)\n",
    "        for i in range(len(cues)):\n",
    "            circle_past = Circle(radius=rad[max(0,i-1)], color=BLACK, stroke_width=10)\n",
    "            circle_now = Circle(radius=rad[i]/100*4, color=BLACK, stroke_width=10)\n",
    "            # self.add(circle)\n",
    "            self.play(FadeToColor(background, color=list_of_colors[i]), \n",
    "                      Transform(circle_past, circle_now),\n",
    "                      run_time=cues[i]\n",
    "                     )\n",
    "            self.remove(circle_past)\n",
    "        self.wait(3)\n",
    "    \n",
    "%manim -ql -v CRITICAL circle"
   ]
  },
  {
   "cell_type": "code",
   "execution_count": null,
   "id": "6e0cf339-b670-4ad8-a686-7cd0dd369c58",
   "metadata": {},
   "outputs": [],
   "source": [
    "class dynamic(Scene):\n",
    "    def construct(self):\n",
    "        # audio_file = preview_request()\n",
    "        # if not audio_file:\n",
    "        #     print(\"No audio file generated.\")\n",
    "        #     return\n",
    "        audio_file=\"song.wav\"\n",
    "        y, sr = librosa.load(audio_file)\n",
    "        \n",
    "        y_harm, y_perc = librosa.effects.hpss(y)\n",
    "        \n",
    "        # harmonic blue\n",
    "        onset_env_harm = librosa.onset.onset_strength(y=y_harm, sr=sr)\n",
    "        max_harm = np.max(onset_env_harm) if np.max(onset_env_harm) > 0 else 1\n",
    "        harm_circle = Circle(color=BLUE)\n",
    "        harm_circle.move_to(LEFT * 2)\n",
    "\n",
    "        # pitch red\n",
    "        pitches, magnitudes = librosa.piptrack(y=y_perc, sr=sr)\n",
    "        pitch_values = np.max(pitches, axis=0)  # Get max pitch per frame\n",
    "        pitch_values = np.nan_to_num(pitch_values)\n",
    "\n",
    "        pitch_circle = Circle(color=RED)\n",
    "        pitch_circle.move_to(RIGHT * 2)\n",
    "\n",
    "        \n",
    "        self.add(harm_circle, pitch_circle)\n",
    "        \n",
    "        self.add_sound(audio_file)\n",
    "\n",
    "        # Animate circles expanding based on onset strength\n",
    "        for harm, pitch in zip(onset_env_harm, pitch_values):\n",
    "            self.play(\n",
    "                harm_circle.animate.scale(1 + harm * 0.8),\n",
    "                pitch_circle.animate.scale(1 + pitch * 0.8),\n",
    "                run_time=0.1\n",
    "            )\n",
    "            \n",
    "            harm_circle.scale(1 / (1 + harm * 0.8))\n",
    "            pitch_circle.scale(1 / (1 + pitch * 0.8))\n",
    "\n",
    "%manim -ql -v WARNING dynamic"
   ]
  },
  {
   "cell_type": "code",
   "execution_count": null,
   "id": "fe81b7e6-2117-4c16-a746-85299f2cb7fd",
   "metadata": {},
   "outputs": [],
   "source": []
  }
 ],
 "metadata": {
  "kernelspec": {
   "display_name": "Python [conda env:PIC16B-25W] *",
   "language": "python",
   "name": "conda-env-PIC16B-25W-py"
  },
  "language_info": {
   "codemirror_mode": {
    "name": "ipython",
    "version": 3
   },
   "file_extension": ".py",
   "mimetype": "text/x-python",
   "name": "python",
   "nbconvert_exporter": "python",
   "pygments_lexer": "ipython3",
   "version": "3.11.6"
  }
 },
 "nbformat": 4,
 "nbformat_minor": 5
}
