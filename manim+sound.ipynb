{
 "cells": [
  {
   "cell_type": "code",
   "execution_count": 1,
   "id": "144f10b5-f1ab-4186-89dc-77ebd3b9e183",
   "metadata": {},
   "outputs": [],
   "source": [
    "from preview_request import preview_request, convert_to_wav\n",
    "import numpy as np\n",
    "import pandas as pd\n",
    "import librosa\n",
    "from manim import *\n",
    "import colorsys"
   ]
  },
  {
   "cell_type": "code",
   "execution_count": 11,
   "id": "a361d0b6-2ea0-40a8-96e1-8c95bd5c8e20",
   "metadata": {},
   "outputs": [
    {
     "data": {
      "text/html": [
       "<pre style=\"white-space:pre;overflow-x:auto;line-height:normal;font-family:Menlo,'DejaVu Sans Mono',consolas,'Courier New',monospace\">Manim Community <span style=\"color: #008000; text-decoration-color: #008000\">v0.18.1</span>\n",
       "\n",
       "</pre>\n"
      ],
      "text/plain": [
       "Manim Community \u001b[32mv0.\u001b[0m\u001b[32m18.1\u001b[0m\n",
       "\n"
      ]
     },
     "metadata": {},
     "output_type": "display_data"
    },
    {
     "name": "stdin",
     "output_type": "stream",
     "text": [
      "Enter a song title:  disease\n"
     ]
    },
    {
     "name": "stdout",
     "output_type": "stream",
     "text": [
      "Searching for: disease\n"
     ]
    },
    {
     "name": "stderr",
     "output_type": "stream",
     "text": [
      "ffmpeg version 4.3.2 Copyright (c) 2000-2021 the FFmpeg developers\n",
      "  built with clang version 12.0.1\n",
      "  configuration: --prefix=/opt/anaconda3 --cc=x86_64-apple-darwin13.4.0-clang --disable-doc --disable-openssl --enable-avresample --enable-gnutls --enable-gpl --enable-hardcoded-tables --enable-libfreetype --enable-libopenh264 --enable-libx264 --enable-pic --enable-pthreads --enable-shared --disable-static --enable-version3 --enable-zlib --enable-libmp3lame --pkg-config=/Users/runner/miniforge3/conda-bld/ffmpeg_1645955481026/_build_env/bin/pkg-config\n",
      "  libavutil      56. 51.100 / 56. 51.100\n",
      "  libavcodec     58. 91.100 / 58. 91.100\n",
      "  libavformat    58. 45.100 / 58. 45.100\n",
      "  libavdevice    58. 10.100 / 58. 10.100\n",
      "  libavfilter     7. 85.100 /  7. 85.100\n",
      "  libavresample   4.  0.  0 /  4.  0.  0\n",
      "  libswscale      5.  7.100 /  5.  7.100\n",
      "  libswresample   3.  7.100 /  3.  7.100\n",
      "  libpostproc    55.  7.100 / 55.  7.100\n",
      "[mp3 @ 0x7f7d1b008200] Estimating duration from bitrate, this may be inaccurate\n",
      "Input #0, mp3, from 'songs/Disease_Lady Gaga_preview.mp3':\n",
      "  Duration: 00:00:29.99, start: 0.000000, bitrate: 128 kb/s\n",
      "    Stream #0:0: Audio: mp3, 44100 Hz, stereo, fltp, 128 kb/s\n",
      "File 'songs/Disease_Lady Gaga_preview.wav' already exists. Overwrite? [y/N] Not overwriting - exiting\n",
      "                                                                                "
     ]
    },
    {
     "data": {
      "text/html": [
       "<video src=\"media/jupyter/dynamic@2025-03-12@00-46-08.mp4\" controls autoplay loop style=\"max-width: 60%;\"  >\n",
       "      Your browser does not support the <code>video</code> element.\n",
       "    </video>"
      ],
      "text/plain": [
       "<IPython.core.display.Video object>"
      ]
     },
     "metadata": {},
     "output_type": "display_data"
    }
   ],
   "source": [
    "class dynamic(Scene):\n",
    "    def construct(self):\n",
    "        audio_file = preview_request()\n",
    "        if not audio_file:\n",
    "            print(\"No audio file generated.\")\n",
    "            return\n",
    "        y, sr = librosa.load(audio_file)\n",
    "        \n",
    "        y_harm, y_perc = librosa.effects.hpss(y)\n",
    "        \n",
    "        # harmonic blue\n",
    "        onset_env_harm = librosa.onset.onset_strength(y=y_harm, sr=sr)\n",
    "        max_harm = np.max(onset_env_harm) if np.max(onset_env_harm) > 0 else 1\n",
    "        harm_circle = Circle(color=BLUE)\n",
    "        harm_circle.move_to(LEFT * 2)\n",
    "\n",
    "        # pitch red\n",
    "        pitches, magnitudes = librosa.piptrack(y=y_perc, sr=sr)\n",
    "        pitch_values = np.max(pitches, axis=0)  # Get max pitch per frame\n",
    "        pitch_values = np.nan_to_num(pitch_values)\n",
    "\n",
    "        pitch_circle = Circle(color=RED)\n",
    "        pitch_circle.move_to(RIGHT * 2)\n",
    "\n",
    "        \n",
    "        self.add(harm_circle, pitch_circle)\n",
    "        \n",
    "        self.add_sound(audio_file)\n",
    "\n",
    "        # Animate circles expanding based on onset strength\n",
    "        for harm, pitch in zip(onset_env_harm, pitch_values):\n",
    "            self.play(\n",
    "                harm_circle.animate.scale(1 + harm * 0.8),\n",
    "                pitch_circle.animate.scale(1 + pitch * 0.8),\n",
    "                run_time=0.1\n",
    "            )\n",
    "            \n",
    "            harm_circle.scale(1 / (1 + harm * 0.8))\n",
    "            pitch_circle.scale(1 / (1 + pitch * 0.8))\n",
    "\n",
    "%manim -ql -v WARNING dynamic"
   ]
  },
  {
   "cell_type": "code",
   "execution_count": null,
   "id": "50359961-a01f-4c16-a355-a49a15b7ad2b",
   "metadata": {},
   "outputs": [],
   "source": []
  }
 ],
 "metadata": {
  "kernelspec": {
   "display_name": "Python 3 (ipykernel)",
   "language": "python",
   "name": "python3"
  },
  "language_info": {
   "codemirror_mode": {
    "name": "ipython",
    "version": 3
   },
   "file_extension": ".py",
   "mimetype": "text/x-python",
   "name": "python",
   "nbconvert_exporter": "python",
   "pygments_lexer": "ipython3",
   "version": "3.12.2"
  }
 },
 "nbformat": 4,
 "nbformat_minor": 5
}
